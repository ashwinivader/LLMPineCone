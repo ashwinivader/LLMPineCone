{
 "cells": [
  {
   "cell_type": "code",
   "execution_count": 207,
   "metadata": {},
   "outputs": [],
   "source": [
    "import openai\n",
    "import langchain\n",
    "import pinecone\n",
    "from langchain.document_loaders import PyPDFDirectoryLoader\n",
    "from langchain.text_splitter import RecursiveCharacterTextSplitter\n",
    "from langchain.embeddings.openai import OpenAIEmbeddings\n",
    "from langchain.llms import openai\n",
    "from langchain.vectorstores import Pinecone\n",
    "import os\n"
   ]
  },
  {
   "cell_type": "code",
   "execution_count": 115,
   "metadata": {},
   "outputs": [
    {
     "data": {
      "text/plain": [
       "<function dotenv.main.load_dotenv(dotenv_path: Union[str, ForwardRef('os.PathLike[str]'), NoneType] = None, stream: Optional[IO[str]] = None, verbose: bool = False, override: bool = False, interpolate: bool = True, encoding: Optional[str] = 'utf-8') -> bool>"
      ]
     },
     "execution_count": 115,
     "metadata": {},
     "output_type": "execute_result"
    }
   ],
   "source": [
    "from dotenv import load_dotenv\n",
    "load_dotenv"
   ]
  },
  {
   "cell_type": "code",
   "execution_count": 116,
   "metadata": {},
   "outputs": [
    {
     "data": {
      "text/plain": [
       "<function dotenv.main.load_dotenv(dotenv_path: Union[str, ForwardRef('os.PathLike[str]'), NoneType] = None, stream: Optional[IO[str]] = None, verbose: bool = False, override: bool = False, interpolate: bool = True, encoding: Optional[str] = 'utf-8') -> bool>"
      ]
     },
     "execution_count": 116,
     "metadata": {},
     "output_type": "execute_result"
    }
   ],
   "source": [
    "load_dotenv"
   ]
  },
  {
   "cell_type": "code",
   "execution_count": 117,
   "metadata": {},
   "outputs": [],
   "source": [
    "#Function to read docuement\n",
    "def read_doc(directory):\n",
    "       dir_loader=PyPDFDirectoryLoader(directory)\n",
    "       documents=dir_loader.load()\n",
    "       return(documents)\n"
   ]
  },
  {
   "cell_type": "code",
   "execution_count": 118,
   "metadata": {},
   "outputs": [
    {
     "data": {
      "text/plain": [
       "43"
      ]
     },
     "execution_count": 118,
     "metadata": {},
     "output_type": "execute_result"
    }
   ],
   "source": [
    "docs=read_doc(\"documents/\")\n",
    "len(docs)"
   ]
  },
  {
   "cell_type": "code",
   "execution_count": 178,
   "metadata": {},
   "outputs": [],
   "source": [
    "def chunk_data(docs,chunk_size=500,chunk_overlap=50):\n",
    "        text_splitter=RecursiveCharacterTextSplitter(chunk_size=chunk_size,chunk_overlap=50)\n",
    "        doc=text_splitter.split_documents(docs)\n",
    "        return doc"
   ]
  },
  {
   "cell_type": "code",
   "execution_count": 179,
   "metadata": {},
   "outputs": [
    {
     "data": {
      "text/plain": [
       "234"
      ]
     },
     "execution_count": 179,
     "metadata": {},
     "output_type": "execute_result"
    }
   ],
   "source": [
    "\n",
    "chunks=chunk_data(docs)\n",
    "len(chunks)"
   ]
  },
  {
   "cell_type": "code",
   "execution_count": 180,
   "metadata": {},
   "outputs": [
    {
     "data": {
      "text/plain": [
       "500"
      ]
     },
     "execution_count": 180,
     "metadata": {},
     "output_type": "execute_result"
    }
   ],
   "source": [
    "len(chunks[0].page_content)\n"
   ]
  },
  {
   "cell_type": "code",
   "execution_count": 181,
   "metadata": {},
   "outputs": [
    {
     "name": "stdout",
     "output_type": "stream",
     "text": [
      "500\n",
      "494\n",
      "497\n",
      "496\n",
      "499\n",
      "225\n",
      "494\n",
      "499\n",
      "498\n",
      "498\n",
      "489\n",
      "497\n",
      "196\n",
      "499\n",
      "491\n",
      "499\n",
      "493\n",
      "493\n",
      "490\n",
      "353\n",
      "494\n",
      "496\n",
      "488\n",
      "499\n",
      "496\n",
      "497\n",
      "126\n",
      "492\n",
      "499\n",
      "493\n",
      "499\n",
      "498\n",
      "217\n",
      "500\n",
      "497\n",
      "496\n",
      "490\n",
      "499\n",
      "493\n",
      "497\n",
      "498\n",
      "494\n",
      "490\n",
      "317\n",
      "500\n",
      "497\n",
      "489\n",
      "493\n",
      "497\n",
      "492\n",
      "286\n",
      "497\n",
      "495\n",
      "497\n",
      "496\n",
      "499\n",
      "320\n",
      "498\n",
      "490\n",
      "493\n",
      "495\n",
      "497\n",
      "193\n",
      "498\n",
      "498\n",
      "493\n",
      "489\n",
      "497\n",
      "218\n",
      "499\n",
      "491\n",
      "489\n",
      "280\n",
      "500\n",
      "497\n",
      "499\n",
      "491\n",
      "404\n",
      "488\n",
      "395\n",
      "498\n",
      "498\n",
      "494\n",
      "491\n",
      "495\n",
      "451\n",
      "499\n",
      "498\n",
      "497\n",
      "498\n",
      "256\n",
      "500\n",
      "499\n",
      "494\n",
      "490\n",
      "209\n",
      "493\n",
      "498\n",
      "499\n",
      "495\n",
      "492\n",
      "399\n",
      "498\n",
      "493\n",
      "499\n",
      "499\n",
      "254\n",
      "500\n",
      "497\n",
      "363\n",
      "497\n",
      "493\n",
      "498\n",
      "496\n",
      "499\n",
      "227\n",
      "495\n",
      "492\n",
      "495\n",
      "498\n",
      "490\n",
      "497\n",
      "497\n",
      "499\n",
      "495\n",
      "498\n",
      "404\n",
      "497\n",
      "496\n",
      "499\n",
      "498\n",
      "186\n",
      "488\n",
      "492\n",
      "492\n",
      "498\n",
      "490\n",
      "453\n",
      "493\n",
      "496\n",
      "496\n",
      "497\n",
      "499\n",
      "64\n",
      "499\n",
      "496\n",
      "496\n",
      "492\n",
      "491\n",
      "495\n",
      "273\n",
      "500\n",
      "496\n",
      "497\n",
      "493\n",
      "498\n",
      "435\n",
      "493\n",
      "497\n",
      "497\n",
      "493\n",
      "493\n",
      "313\n",
      "500\n",
      "496\n",
      "498\n",
      "492\n",
      "498\n",
      "154\n",
      "496\n",
      "498\n",
      "496\n",
      "497\n",
      "79\n",
      "498\n",
      "497\n",
      "495\n",
      "496\n",
      "493\n",
      "494\n",
      "389\n",
      "493\n",
      "493\n",
      "496\n",
      "499\n",
      "497\n",
      "495\n",
      "244\n",
      "499\n",
      "490\n",
      "497\n",
      "498\n",
      "489\n",
      "427\n",
      "496\n",
      "498\n",
      "495\n",
      "492\n",
      "279\n",
      "494\n",
      "499\n",
      "489\n",
      "493\n",
      "495\n",
      "276\n",
      "489\n",
      "493\n",
      "495\n",
      "490\n",
      "498\n",
      "498\n",
      "148\n",
      "495\n",
      "493\n",
      "489\n",
      "482\n",
      "499\n",
      "494\n",
      "492\n",
      "499\n",
      "497\n",
      "293\n",
      "498\n",
      "495\n",
      "497\n",
      "497\n",
      "498\n",
      "389\n",
      "495\n",
      "499\n",
      "402\n",
      "497\n",
      "242\n",
      "157\n"
     ]
    }
   ],
   "source": [
    "a=[]\n",
    "for i in range(len(chunks)):\n",
    "     print(len(chunks[i].page_content))\n",
    "     a.append(len(chunks[i].page_content))\n",
    "     \n"
   ]
  },
  {
   "cell_type": "code",
   "execution_count": 182,
   "metadata": {},
   "outputs": [
    {
     "data": {
      "text/plain": [
       "500"
      ]
     },
     "execution_count": 182,
     "metadata": {},
     "output_type": "execute_result"
    }
   ],
   "source": [
    "max(a)"
   ]
  },
  {
   "cell_type": "code",
   "execution_count": 183,
   "metadata": {},
   "outputs": [
    {
     "data": {
      "text/plain": [
       "500"
      ]
     },
     "execution_count": 183,
     "metadata": {},
     "output_type": "execute_result"
    }
   ],
   "source": [
    "len(chunks[0].page_content)"
   ]
  },
  {
   "cell_type": "code",
   "execution_count": 122,
   "metadata": {},
   "outputs": [],
   "source": [
    "embeddings=OpenAIEmbeddings(api_key=\"\")"
   ]
  },
  {
   "cell_type": "code",
   "execution_count": 212,
   "metadata": {},
   "outputs": [],
   "source": [
    "vec=embeddings.embed_query(chunks[0].page_content)"
   ]
  },
  {
   "cell_type": "code",
   "execution_count": 213,
   "metadata": {},
   "outputs": [
    {
     "data": {
      "text/plain": [
       "1536"
      ]
     },
     "execution_count": 213,
     "metadata": {},
     "output_type": "execute_result"
    }
   ],
   "source": [
    "len(vec)"
   ]
  },
  {
   "cell_type": "code",
   "execution_count": 205,
   "metadata": {},
   "outputs": [],
   "source": [
    "#Vector searchDb in pinecone\n",
    "pinecone.init(\n",
    "    api_key=\"\",\n",
    "    environment=\"\")\n",
    "index_name = 'semanticsearchtrial'"
   ]
  },
  {
   "cell_type": "code",
   "execution_count": 187,
   "metadata": {},
   "outputs": [],
   "source": [
    "Pinecone."
   ]
  },
  {
   "cell_type": "code",
   "execution_count": 216,
   "metadata": {},
   "outputs": [],
   "source": [
    "import time\n",
    "# only create index if it doesn't exist\n",
    "if index_name not in pinecone.list_indexes():\n",
    "        pinecone.create_index(        \n",
    "        name=index_name,\n",
    "        dimension=1536,\n",
    "        metric='cosine'\n",
    "\n",
    "    )\n",
    "    # wait a moment for the index to be fully initialized\n",
    "time.sleep(1)"
   ]
  },
  {
   "cell_type": "code",
   "execution_count": 217,
   "metadata": {},
   "outputs": [],
   "source": [
    "\n",
    "index=Pinecone.from_documents(chunks,embeddings,index_name=index_name)"
   ]
  },
  {
   "cell_type": "code",
   "execution_count": 218,
   "metadata": {},
   "outputs": [],
   "source": [
    "##Cosine similarity to retrive results\n",
    "def retrieve_query(query,k=2):\n",
    "    matching_results=index.similarity_search(query,k)\n",
    "    return matching_results\n"
   ]
  },
  {
   "cell_type": "code",
   "execution_count": 223,
   "metadata": {},
   "outputs": [],
   "source": [
    "from langchain.chains.question_answering import load_qa_chain\n",
    "from langchain import OpenAI\n",
    "llm=OpenAI(model_name=\"text_davinci_003\",temperature=0.5,api_key=\"\")\n",
    "chain=load_qa_chain(llm,chain_type=\"stuff\")\n"
   ]
  },
  {
   "cell_type": "code",
   "execution_count": null,
   "metadata": {},
   "outputs": [],
   "source": []
  },
  {
   "cell_type": "code",
   "execution_count": null,
   "metadata": {},
   "outputs": [],
   "source": []
  },
  {
   "cell_type": "code",
   "execution_count": null,
   "metadata": {},
   "outputs": [],
   "source": []
  },
  {
   "cell_type": "code",
   "execution_count": null,
   "metadata": {},
   "outputs": [],
   "source": []
  },
  {
   "cell_type": "code",
   "execution_count": null,
   "metadata": {},
   "outputs": [],
   "source": []
  },
  {
   "cell_type": "code",
   "execution_count": null,
   "metadata": {},
   "outputs": [],
   "source": []
  },
  {
   "cell_type": "code",
   "execution_count": null,
   "metadata": {},
   "outputs": [],
   "source": []
  }
 ],
 "metadata": {
  "kernelspec": {
   "display_name": "Python 3",
   "language": "python",
   "name": "python3"
  },
  "language_info": {
   "codemirror_mode": {
    "name": "ipython",
    "version": 3
   },
   "file_extension": ".py",
   "mimetype": "text/x-python",
   "name": "python",
   "nbconvert_exporter": "python",
   "pygments_lexer": "ipython3",
   "version": "3.10.0"
  }
 },
 "nbformat": 4,
 "nbformat_minor": 2
}
